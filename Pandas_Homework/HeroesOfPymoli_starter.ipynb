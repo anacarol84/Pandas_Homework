{
 "cells": [
  {
   "cell_type": "markdown",
   "metadata": {},
   "source": [
    "### Note\n",
    "* Instructions have been included for each segment. You do not have to follow them exactly, but they are included to help you think through the steps."
   ]
  },
  {
   "cell_type": "code",
   "execution_count": 1,
   "metadata": {},
   "outputs": [],
   "source": [
    "# Dependencies and Setup\n",
    "import pandas as pd\n",
    "\n",
    "# File to Load (Remember to Change These)\n",
    "file_to_load = \"Resources/purchase_data.csv\"\n",
    "\n",
    "# Read Purchasing File and store into Pandas data frame\n",
    "purchase_data = pd.read_csv(file_to_load)"
   ]
  },
  {
   "cell_type": "markdown",
   "metadata": {},
   "source": [
    "## Player Count"
   ]
  },
  {
   "cell_type": "markdown",
   "metadata": {},
   "source": [
    "* Display the total number of players\n"
   ]
  },
  {
   "cell_type": "code",
   "execution_count": 2,
   "metadata": {},
   "outputs": [
    {
     "data": {
      "text/html": [
       "<div>\n",
       "<style scoped>\n",
       "    .dataframe tbody tr th:only-of-type {\n",
       "        vertical-align: middle;\n",
       "    }\n",
       "\n",
       "    .dataframe tbody tr th {\n",
       "        vertical-align: top;\n",
       "    }\n",
       "\n",
       "    .dataframe thead th {\n",
       "        text-align: right;\n",
       "    }\n",
       "</style>\n",
       "<table border=\"1\" class=\"dataframe\">\n",
       "  <thead>\n",
       "    <tr style=\"text-align: right;\">\n",
       "      <th></th>\n",
       "      <th>Purchase ID</th>\n",
       "      <th>SN</th>\n",
       "      <th>Age</th>\n",
       "      <th>Gender</th>\n",
       "      <th>Item ID</th>\n",
       "      <th>Item Name</th>\n",
       "      <th>Price</th>\n",
       "    </tr>\n",
       "  </thead>\n",
       "  <tbody>\n",
       "    <tr>\n",
       "      <th>0</th>\n",
       "      <td>0</td>\n",
       "      <td>Lisim78</td>\n",
       "      <td>20</td>\n",
       "      <td>Male</td>\n",
       "      <td>108</td>\n",
       "      <td>Extraction, Quickblade Of Trembling Hands</td>\n",
       "      <td>3.53</td>\n",
       "    </tr>\n",
       "    <tr>\n",
       "      <th>1</th>\n",
       "      <td>1</td>\n",
       "      <td>Lisovynya38</td>\n",
       "      <td>40</td>\n",
       "      <td>Male</td>\n",
       "      <td>143</td>\n",
       "      <td>Frenzied Scimitar</td>\n",
       "      <td>1.56</td>\n",
       "    </tr>\n",
       "    <tr>\n",
       "      <th>2</th>\n",
       "      <td>2</td>\n",
       "      <td>Ithergue48</td>\n",
       "      <td>24</td>\n",
       "      <td>Male</td>\n",
       "      <td>92</td>\n",
       "      <td>Final Critic</td>\n",
       "      <td>4.88</td>\n",
       "    </tr>\n",
       "    <tr>\n",
       "      <th>3</th>\n",
       "      <td>3</td>\n",
       "      <td>Chamassasya86</td>\n",
       "      <td>24</td>\n",
       "      <td>Male</td>\n",
       "      <td>100</td>\n",
       "      <td>Blindscythe</td>\n",
       "      <td>3.27</td>\n",
       "    </tr>\n",
       "    <tr>\n",
       "      <th>4</th>\n",
       "      <td>4</td>\n",
       "      <td>Iskosia90</td>\n",
       "      <td>23</td>\n",
       "      <td>Male</td>\n",
       "      <td>131</td>\n",
       "      <td>Fury</td>\n",
       "      <td>1.44</td>\n",
       "    </tr>\n",
       "    <tr>\n",
       "      <th>5</th>\n",
       "      <td>5</td>\n",
       "      <td>Yalae81</td>\n",
       "      <td>22</td>\n",
       "      <td>Male</td>\n",
       "      <td>81</td>\n",
       "      <td>Dreamkiss</td>\n",
       "      <td>3.61</td>\n",
       "    </tr>\n",
       "    <tr>\n",
       "      <th>6</th>\n",
       "      <td>6</td>\n",
       "      <td>Itheria73</td>\n",
       "      <td>36</td>\n",
       "      <td>Male</td>\n",
       "      <td>169</td>\n",
       "      <td>Interrogator, Blood Blade of the Queen</td>\n",
       "      <td>2.18</td>\n",
       "    </tr>\n",
       "    <tr>\n",
       "      <th>7</th>\n",
       "      <td>7</td>\n",
       "      <td>Iskjaskst81</td>\n",
       "      <td>20</td>\n",
       "      <td>Male</td>\n",
       "      <td>162</td>\n",
       "      <td>Abyssal Shard</td>\n",
       "      <td>2.67</td>\n",
       "    </tr>\n",
       "    <tr>\n",
       "      <th>8</th>\n",
       "      <td>8</td>\n",
       "      <td>Undjask33</td>\n",
       "      <td>22</td>\n",
       "      <td>Male</td>\n",
       "      <td>21</td>\n",
       "      <td>Souleater</td>\n",
       "      <td>1.10</td>\n",
       "    </tr>\n",
       "    <tr>\n",
       "      <th>9</th>\n",
       "      <td>9</td>\n",
       "      <td>Chanosian48</td>\n",
       "      <td>35</td>\n",
       "      <td>Other / Non-Disclosed</td>\n",
       "      <td>136</td>\n",
       "      <td>Ghastly Adamantite Protector</td>\n",
       "      <td>3.58</td>\n",
       "    </tr>\n",
       "    <tr>\n",
       "      <th>10</th>\n",
       "      <td>10</td>\n",
       "      <td>Inguron55</td>\n",
       "      <td>23</td>\n",
       "      <td>Male</td>\n",
       "      <td>95</td>\n",
       "      <td>Singed Onyx Warscythe</td>\n",
       "      <td>4.74</td>\n",
       "    </tr>\n",
       "    <tr>\n",
       "      <th>11</th>\n",
       "      <td>11</td>\n",
       "      <td>Haisrisuir60</td>\n",
       "      <td>23</td>\n",
       "      <td>Male</td>\n",
       "      <td>162</td>\n",
       "      <td>Abyssal Shard</td>\n",
       "      <td>2.67</td>\n",
       "    </tr>\n",
       "    <tr>\n",
       "      <th>12</th>\n",
       "      <td>12</td>\n",
       "      <td>Saelaephos52</td>\n",
       "      <td>21</td>\n",
       "      <td>Male</td>\n",
       "      <td>116</td>\n",
       "      <td>Renewed Skeletal Katana</td>\n",
       "      <td>4.18</td>\n",
       "    </tr>\n",
       "    <tr>\n",
       "      <th>13</th>\n",
       "      <td>13</td>\n",
       "      <td>Assjaskan73</td>\n",
       "      <td>22</td>\n",
       "      <td>Male</td>\n",
       "      <td>4</td>\n",
       "      <td>Bloodlord's Fetish</td>\n",
       "      <td>1.70</td>\n",
       "    </tr>\n",
       "    <tr>\n",
       "      <th>14</th>\n",
       "      <td>14</td>\n",
       "      <td>Saesrideu94</td>\n",
       "      <td>35</td>\n",
       "      <td>Male</td>\n",
       "      <td>165</td>\n",
       "      <td>Bone Crushing Silver Skewer</td>\n",
       "      <td>4.86</td>\n",
       "    </tr>\n",
       "    <tr>\n",
       "      <th>15</th>\n",
       "      <td>15</td>\n",
       "      <td>Lisassa64</td>\n",
       "      <td>21</td>\n",
       "      <td>Female</td>\n",
       "      <td>98</td>\n",
       "      <td>Deadline, Voice Of Subtlety</td>\n",
       "      <td>2.89</td>\n",
       "    </tr>\n",
       "    <tr>\n",
       "      <th>16</th>\n",
       "      <td>16</td>\n",
       "      <td>Lisirra25</td>\n",
       "      <td>20</td>\n",
       "      <td>Male</td>\n",
       "      <td>40</td>\n",
       "      <td>Second Chance</td>\n",
       "      <td>2.52</td>\n",
       "    </tr>\n",
       "    <tr>\n",
       "      <th>17</th>\n",
       "      <td>17</td>\n",
       "      <td>Zontibe81</td>\n",
       "      <td>21</td>\n",
       "      <td>Male</td>\n",
       "      <td>161</td>\n",
       "      <td>Devine</td>\n",
       "      <td>1.76</td>\n",
       "    </tr>\n",
       "    <tr>\n",
       "      <th>18</th>\n",
       "      <td>18</td>\n",
       "      <td>Reunasu60</td>\n",
       "      <td>22</td>\n",
       "      <td>Female</td>\n",
       "      <td>82</td>\n",
       "      <td>Nirvana</td>\n",
       "      <td>4.90</td>\n",
       "    </tr>\n",
       "    <tr>\n",
       "      <th>19</th>\n",
       "      <td>19</td>\n",
       "      <td>Chamalo71</td>\n",
       "      <td>30</td>\n",
       "      <td>Male</td>\n",
       "      <td>89</td>\n",
       "      <td>Blazefury, Protector of Delusions</td>\n",
       "      <td>4.64</td>\n",
       "    </tr>\n",
       "  </tbody>\n",
       "</table>\n",
       "</div>"
      ],
      "text/plain": [
       "    Purchase ID             SN  Age                 Gender  Item ID  \\\n",
       "0             0        Lisim78   20                   Male      108   \n",
       "1             1    Lisovynya38   40                   Male      143   \n",
       "2             2     Ithergue48   24                   Male       92   \n",
       "3             3  Chamassasya86   24                   Male      100   \n",
       "4             4      Iskosia90   23                   Male      131   \n",
       "5             5        Yalae81   22                   Male       81   \n",
       "6             6      Itheria73   36                   Male      169   \n",
       "7             7    Iskjaskst81   20                   Male      162   \n",
       "8             8      Undjask33   22                   Male       21   \n",
       "9             9    Chanosian48   35  Other / Non-Disclosed      136   \n",
       "10           10      Inguron55   23                   Male       95   \n",
       "11           11   Haisrisuir60   23                   Male      162   \n",
       "12           12   Saelaephos52   21                   Male      116   \n",
       "13           13    Assjaskan73   22                   Male        4   \n",
       "14           14    Saesrideu94   35                   Male      165   \n",
       "15           15      Lisassa64   21                 Female       98   \n",
       "16           16      Lisirra25   20                   Male       40   \n",
       "17           17      Zontibe81   21                   Male      161   \n",
       "18           18      Reunasu60   22                 Female       82   \n",
       "19           19      Chamalo71   30                   Male       89   \n",
       "\n",
       "                                    Item Name  Price  \n",
       "0   Extraction, Quickblade Of Trembling Hands   3.53  \n",
       "1                           Frenzied Scimitar   1.56  \n",
       "2                                Final Critic   4.88  \n",
       "3                                 Blindscythe   3.27  \n",
       "4                                        Fury   1.44  \n",
       "5                                   Dreamkiss   3.61  \n",
       "6      Interrogator, Blood Blade of the Queen   2.18  \n",
       "7                               Abyssal Shard   2.67  \n",
       "8                                   Souleater   1.10  \n",
       "9                Ghastly Adamantite Protector   3.58  \n",
       "10                      Singed Onyx Warscythe   4.74  \n",
       "11                              Abyssal Shard   2.67  \n",
       "12                    Renewed Skeletal Katana   4.18  \n",
       "13                         Bloodlord's Fetish   1.70  \n",
       "14                Bone Crushing Silver Skewer   4.86  \n",
       "15                Deadline, Voice Of Subtlety   2.89  \n",
       "16                              Second Chance   2.52  \n",
       "17                                     Devine   1.76  \n",
       "18                                    Nirvana   4.90  \n",
       "19          Blazefury, Protector of Delusions   4.64  "
      ]
     },
     "execution_count": 2,
     "metadata": {},
     "output_type": "execute_result"
    }
   ],
   "source": [
    "#Show DataFrame\n",
    "\n",
    "purchase_data.head(20)"
   ]
  },
  {
   "cell_type": "code",
   "execution_count": 3,
   "metadata": {},
   "outputs": [
    {
     "data": {
      "text/html": [
       "<div>\n",
       "<style scoped>\n",
       "    .dataframe tbody tr th:only-of-type {\n",
       "        vertical-align: middle;\n",
       "    }\n",
       "\n",
       "    .dataframe tbody tr th {\n",
       "        vertical-align: top;\n",
       "    }\n",
       "\n",
       "    .dataframe thead th {\n",
       "        text-align: right;\n",
       "    }\n",
       "</style>\n",
       "<table border=\"1\" class=\"dataframe\">\n",
       "  <thead>\n",
       "    <tr style=\"text-align: right;\">\n",
       "      <th></th>\n",
       "      <th>Total Players</th>\n",
       "    </tr>\n",
       "  </thead>\n",
       "  <tbody>\n",
       "    <tr>\n",
       "      <th>0</th>\n",
       "      <td>576</td>\n",
       "    </tr>\n",
       "  </tbody>\n",
       "</table>\n",
       "</div>"
      ],
      "text/plain": [
       "   Total Players\n",
       "0            576"
      ]
     },
     "execution_count": 3,
     "metadata": {},
     "output_type": "execute_result"
    }
   ],
   "source": [
    "#Calculate Total number\n",
    "\n",
    "Total_Players = purchase_data[\"SN\"].unique()\n",
    "TotalUniquePlayers = len(Total_Players)\n",
    "df_TotalUniquePlayers = pd.DataFrame([TotalUniquePlayers], columns = [\"Total Players\"])\n",
    "df_TotalUniquePlayers"
   ]
  },
  {
   "cell_type": "markdown",
   "metadata": {},
   "source": [
    "## Purchasing Analysis (Total)"
   ]
  },
  {
   "cell_type": "markdown",
   "metadata": {},
   "source": [
    "* Run basic calculations to obtain number of unique items, average price, etc.\n",
    "\n",
    "\n",
    "* Create a summary data frame to hold the results\n",
    "\n",
    "\n",
    "* Optional: give the displayed data cleaner formatting\n",
    "\n",
    "\n",
    "* Display the summary data frame\n"
   ]
  },
  {
   "cell_type": "code",
   "execution_count": 4,
   "metadata": {},
   "outputs": [
    {
     "data": {
      "text/plain": [
       "179"
      ]
     },
     "execution_count": 4,
     "metadata": {},
     "output_type": "execute_result"
    }
   ],
   "source": [
    "#Calculate Unique Item\n",
    "\n",
    "Unique_Items = len(purchase_data[\"Item Name\"].unique())\n",
    "Unique_Items"
   ]
  },
  {
   "cell_type": "code",
   "execution_count": 5,
   "metadata": {
    "scrolled": true
   },
   "outputs": [
    {
     "data": {
      "text/plain": [
       "3.050987179487176"
      ]
     },
     "execution_count": 5,
     "metadata": {},
     "output_type": "execute_result"
    }
   ],
   "source": [
    "#Calculate average\n",
    "\n",
    "Average_price = purchase_data[\"Price\"].mean()\n",
    "Average_price"
   ]
  },
  {
   "cell_type": "code",
   "execution_count": 6,
   "metadata": {},
   "outputs": [
    {
     "data": {
      "text/plain": [
       "2379.77"
      ]
     },
     "execution_count": 6,
     "metadata": {},
     "output_type": "execute_result"
    }
   ],
   "source": [
    "#Calculate sum of Purchase itmes\n",
    "\n",
    "Sum_of_Purchase = purchase_data[\"Price\"].sum()\n",
    "Sum_of_Purchase\n"
   ]
  },
  {
   "cell_type": "code",
   "execution_count": 7,
   "metadata": {},
   "outputs": [
    {
     "data": {
      "text/plain": [
       "780"
      ]
     },
     "execution_count": 7,
     "metadata": {},
     "output_type": "execute_result"
    }
   ],
   "source": [
    "#Calculate total of Purchase itmes\n",
    "\n",
    "total_Purchase = len(purchase_data[\"Price\"])\n",
    "total_Purchase"
   ]
  },
  {
   "cell_type": "code",
   "execution_count": 8,
   "metadata": {},
   "outputs": [
    {
     "data": {
      "text/html": [
       "<div>\n",
       "<style scoped>\n",
       "    .dataframe tbody tr th:only-of-type {\n",
       "        vertical-align: middle;\n",
       "    }\n",
       "\n",
       "    .dataframe tbody tr th {\n",
       "        vertical-align: top;\n",
       "    }\n",
       "\n",
       "    .dataframe thead th {\n",
       "        text-align: right;\n",
       "    }\n",
       "</style>\n",
       "<table border=\"1\" class=\"dataframe\">\n",
       "  <thead>\n",
       "    <tr style=\"text-align: right;\">\n",
       "      <th></th>\n",
       "      <th>Numbers of Items</th>\n",
       "      <th>Average Price</th>\n",
       "      <th>Sum of purchase Item</th>\n",
       "      <th>Total purchase item</th>\n",
       "    </tr>\n",
       "  </thead>\n",
       "  <tbody>\n",
       "    <tr>\n",
       "      <th>0</th>\n",
       "      <td>179</td>\n",
       "      <td>3.050987</td>\n",
       "      <td>2379.77</td>\n",
       "      <td>780</td>\n",
       "    </tr>\n",
       "  </tbody>\n",
       "</table>\n",
       "</div>"
      ],
      "text/plain": [
       "   Numbers of Items  Average Price  Sum of purchase Item  Total purchase item\n",
       "0               179       3.050987               2379.77                  780"
      ]
     },
     "execution_count": 8,
     "metadata": {},
     "output_type": "execute_result"
    }
   ],
   "source": [
    "#DataFrame\n",
    "\n",
    "pd.DataFrame({\"Numbers of Items\": [Unique_Items],\n",
    "             \"Average Price\":[Average_price],\n",
    "             \"Sum of purchase Item\":[Sum_of_Purchase],\n",
    "             \"Total purchase item\":[total_Purchase]\n",
    "             })"
   ]
  },
  {
   "cell_type": "code",
   "execution_count": 9,
   "metadata": {},
   "outputs": [],
   "source": [
    "#Praticing - If I want to Sum the DataFrame\n",
    "\n",
    "# pd.DataFrame({\"Numbers of Items\": [Unique_Items],\n",
    "#              \"Average Price\":[Average_price],\n",
    "#              \"Sum of purchase Item\":[Sum_of_Purchase],\n",
    "#              \"Total purchase item\":[total_Purchase]\n",
    "#              }).sum(axis=1)"
   ]
  },
  {
   "cell_type": "markdown",
   "metadata": {},
   "source": [
    "## Gender Demographics"
   ]
  },
  {
   "cell_type": "markdown",
   "metadata": {},
   "source": [
    "* Percentage and Count of Male Players\n",
    "\n",
    "\n",
    "* Percentage and Count of Female Players\n",
    "\n",
    "\n",
    "* Percentage and Count of Other / Non-Disclosed\n",
    "\n",
    "\n"
   ]
  },
  {
   "cell_type": "code",
   "execution_count": 10,
   "metadata": {
    "scrolled": true
   },
   "outputs": [
    {
     "data": {
      "text/plain": [
       "Male                     652\n",
       "Female                   113\n",
       "Other / Non-Disclosed     15\n",
       "Name: Gender, dtype: int64"
      ]
     },
     "execution_count": 10,
     "metadata": {},
     "output_type": "execute_result"
    }
   ],
   "source": [
    "Gender_demographics = purchase_data[\"Gender\"].value_counts()\n",
    "Gender_demographics"
   ]
  },
  {
   "cell_type": "code",
   "execution_count": 76,
   "metadata": {},
   "outputs": [
    {
     "data": {
      "text/html": [
       "<div>\n",
       "<style scoped>\n",
       "    .dataframe tbody tr th:only-of-type {\n",
       "        vertical-align: middle;\n",
       "    }\n",
       "\n",
       "    .dataframe tbody tr th {\n",
       "        vertical-align: top;\n",
       "    }\n",
       "\n",
       "    .dataframe thead th {\n",
       "        text-align: right;\n",
       "    }\n",
       "</style>\n",
       "<table border=\"1\" class=\"dataframe\">\n",
       "  <thead>\n",
       "    <tr style=\"text-align: right;\">\n",
       "      <th></th>\n",
       "      <th>Total Gender</th>\n",
       "      <th>Porcentage Gender</th>\n",
       "    </tr>\n",
       "    <tr>\n",
       "      <th>Gender</th>\n",
       "      <th></th>\n",
       "      <th></th>\n",
       "    </tr>\n",
       "  </thead>\n",
       "  <tbody>\n",
       "    <tr>\n",
       "      <th>Female</th>\n",
       "      <td>81</td>\n",
       "      <td>0.140625</td>\n",
       "    </tr>\n",
       "    <tr>\n",
       "      <th>Male</th>\n",
       "      <td>484</td>\n",
       "      <td>0.840278</td>\n",
       "    </tr>\n",
       "    <tr>\n",
       "      <th>Other / Non-Disclosed</th>\n",
       "      <td>11</td>\n",
       "      <td>0.019097</td>\n",
       "    </tr>\n",
       "  </tbody>\n",
       "</table>\n",
       "</div>"
      ],
      "text/plain": [
       "                       Total Gender  Porcentage Gender\n",
       "Gender                                                \n",
       "Female                           81           0.140625\n",
       "Male                            484           0.840278\n",
       "Other / Non-Disclosed            11           0.019097"
      ]
     },
     "execution_count": 76,
     "metadata": {},
     "output_type": "execute_result"
    }
   ],
   "source": [
    "users_df = purchase_data.drop_duplicates([\"SN\"])\n",
    "Gender = users_df[\"Gender\"].value_counts()\n",
    "Gender\n",
    "\n",
    "# Option2\n",
    "Gender2 = users_df.groupby([\"Gender\"])[\"Item Name\"].count()\n",
    "Gender2\n",
    "\n",
    "Porcentage = Gender2/TotalUniquePlayers\n",
    "\n",
    "#next step pout this 2 in a dataFrame\n",
    "\n",
    "pd.DataFrame({\"Total Gender\": Gender2,\n",
    "             \"Porcentage Gender\": Porcentage,\n",
    "             })"
   ]
  },
  {
   "cell_type": "markdown",
   "metadata": {},
   "source": [
    "\n",
    "## Purchasing Analysis (Gender)"
   ]
  },
  {
   "cell_type": "markdown",
   "metadata": {},
   "source": [
    "* Run basic calculations to obtain purchase count, avg. purchase price, avg. purchase total per person etc. by gender\n",
    "\n",
    "\n",
    "\n",
    "\n",
    "* Create a summary data frame to hold the results\n",
    "\n",
    "\n",
    "* Optional: give the displayed data cleaner formatting\n",
    "\n",
    "\n",
    "* Display the summary data frame"
   ]
  },
  {
   "cell_type": "code",
   "execution_count": 95,
   "metadata": {},
   "outputs": [
    {
     "data": {
      "text/html": [
       "<div>\n",
       "<style scoped>\n",
       "    .dataframe tbody tr th:only-of-type {\n",
       "        vertical-align: middle;\n",
       "    }\n",
       "\n",
       "    .dataframe tbody tr th {\n",
       "        vertical-align: top;\n",
       "    }\n",
       "\n",
       "    .dataframe thead th {\n",
       "        text-align: right;\n",
       "    }\n",
       "</style>\n",
       "<table border=\"1\" class=\"dataframe\">\n",
       "  <thead>\n",
       "    <tr style=\"text-align: right;\">\n",
       "      <th></th>\n",
       "      <th>Average purchase</th>\n",
       "      <th>Total purchase</th>\n",
       "      <th>Purchase count</th>\n",
       "      <th>Total purchase person</th>\n",
       "    </tr>\n",
       "    <tr>\n",
       "      <th>Gender</th>\n",
       "      <th></th>\n",
       "      <th></th>\n",
       "      <th></th>\n",
       "      <th></th>\n",
       "    </tr>\n",
       "  </thead>\n",
       "  <tbody>\n",
       "    <tr>\n",
       "      <th>Female</th>\n",
       "      <td>3.203009</td>\n",
       "      <td>361.94</td>\n",
       "      <td>113</td>\n",
       "      <td>4.468395</td>\n",
       "    </tr>\n",
       "    <tr>\n",
       "      <th>Male</th>\n",
       "      <td>3.017853</td>\n",
       "      <td>1967.64</td>\n",
       "      <td>652</td>\n",
       "      <td>4.065372</td>\n",
       "    </tr>\n",
       "    <tr>\n",
       "      <th>Other / Non-Disclosed</th>\n",
       "      <td>3.346000</td>\n",
       "      <td>50.19</td>\n",
       "      <td>15</td>\n",
       "      <td>4.562727</td>\n",
       "    </tr>\n",
       "  </tbody>\n",
       "</table>\n",
       "</div>"
      ],
      "text/plain": [
       "                       Average purchase  Total purchase  Purchase count  \\\n",
       "Gender                                                                    \n",
       "Female                         3.203009          361.94             113   \n",
       "Male                           3.017853         1967.64             652   \n",
       "Other / Non-Disclosed          3.346000           50.19              15   \n",
       "\n",
       "                       Total purchase person  \n",
       "Gender                                        \n",
       "Female                              4.468395  \n",
       "Male                                4.065372  \n",
       "Other / Non-Disclosed               4.562727  "
      ]
     },
     "execution_count": 95,
     "metadata": {},
     "output_type": "execute_result"
    }
   ],
   "source": [
    "Average_price = purchase_data.groupby([\"Gender\"])[\"Price\"].mean()\n",
    "\n",
    "Purchase_sum = purchase_data.groupby([\"Gender\"])[\"Price\"].sum()\n",
    "\n",
    "Purchase_number = purchase_data.groupby([\"Gender\"])[\"Price\"].count()\n",
    "\n",
    "total_purchase_person = Sum_of_Purchase/Gender2\n",
    "\n",
    "pd.DataFrame({\"Average purchase\": Average_price,\n",
    "             \"Total purchase\": Sum_of_Purchase,\n",
    "            \"Purchase count\":Purchase_number,\n",
    "              \"Total purchase person\":total_purchase_person,\n",
    "             })"
   ]
  },
  {
   "cell_type": "markdown",
   "metadata": {},
   "source": [
    "## Age Demographics"
   ]
  },
  {
   "cell_type": "markdown",
   "metadata": {},
   "source": [
    "* Establish bins for ages\n",
    "\n",
    "\n",
    "* Categorize the existing players using the age bins. Hint: use pd.cut()\n",
    "\n",
    "\n",
    "* Calculate the numbers and percentages by age group\n",
    "\n",
    "\n",
    "* Create a summary data frame to hold the results\n",
    "\n",
    "\n",
    "* Optional: round the percentage column to two decimal points\n",
    "\n",
    "\n",
    "* Display Age Demographics Table\n"
   ]
  },
  {
   "cell_type": "code",
   "execution_count": 160,
   "metadata": {},
   "outputs": [
    {
     "name": "stderr",
     "output_type": "stream",
     "text": [
      "<ipython-input-160-b339878212c1>:4: SettingWithCopyWarning: \n",
      "A value is trying to be set on a copy of a slice from a DataFrame.\n",
      "Try using .loc[row_indexer,col_indexer] = value instead\n",
      "\n",
      "See the caveats in the documentation: https://pandas.pydata.org/pandas-docs/stable/user_guide/indexing.html#returning-a-view-versus-a-copy\n",
      "  users_df[\"Total Count\"] = pd.cut(users_df[\"Age\"], bins, labels=bin_labels)\n"
     ]
    },
    {
     "data": {
      "text/html": [
       "<div>\n",
       "<style scoped>\n",
       "    .dataframe tbody tr th:only-of-type {\n",
       "        vertical-align: middle;\n",
       "    }\n",
       "\n",
       "    .dataframe tbody tr th {\n",
       "        vertical-align: top;\n",
       "    }\n",
       "\n",
       "    .dataframe thead th {\n",
       "        text-align: right;\n",
       "    }\n",
       "</style>\n",
       "<table border=\"1\" class=\"dataframe\">\n",
       "  <thead>\n",
       "    <tr style=\"text-align: right;\">\n",
       "      <th></th>\n",
       "      <th>percentages by age</th>\n",
       "      <th>Total purchase</th>\n",
       "    </tr>\n",
       "    <tr>\n",
       "      <th>Total Count</th>\n",
       "      <th></th>\n",
       "      <th></th>\n",
       "    </tr>\n",
       "  </thead>\n",
       "  <tbody>\n",
       "    <tr>\n",
       "      <th>&lt;10</th>\n",
       "      <td>2.951389</td>\n",
       "      <td>17</td>\n",
       "    </tr>\n",
       "    <tr>\n",
       "      <th>10-14</th>\n",
       "      <td>3.819444</td>\n",
       "      <td>22</td>\n",
       "    </tr>\n",
       "    <tr>\n",
       "      <th>15-19</th>\n",
       "      <td>18.576389</td>\n",
       "      <td>107</td>\n",
       "    </tr>\n",
       "    <tr>\n",
       "      <th>20-24</th>\n",
       "      <td>44.791667</td>\n",
       "      <td>258</td>\n",
       "    </tr>\n",
       "    <tr>\n",
       "      <th>25-29</th>\n",
       "      <td>13.368056</td>\n",
       "      <td>77</td>\n",
       "    </tr>\n",
       "    <tr>\n",
       "      <th>30-34</th>\n",
       "      <td>9.027778</td>\n",
       "      <td>52</td>\n",
       "    </tr>\n",
       "    <tr>\n",
       "      <th>35-39</th>\n",
       "      <td>5.381944</td>\n",
       "      <td>31</td>\n",
       "    </tr>\n",
       "    <tr>\n",
       "      <th>40+</th>\n",
       "      <td>2.083333</td>\n",
       "      <td>12</td>\n",
       "    </tr>\n",
       "  </tbody>\n",
       "</table>\n",
       "</div>"
      ],
      "text/plain": [
       "             percentages by age  Total purchase\n",
       "Total Count                                    \n",
       "<10                    2.951389              17\n",
       "10-14                  3.819444              22\n",
       "15-19                 18.576389             107\n",
       "20-24                 44.791667             258\n",
       "25-29                 13.368056              77\n",
       "30-34                  9.027778              52\n",
       "35-39                  5.381944              31\n",
       "40+                    2.083333              12"
      ]
     },
     "execution_count": 160,
     "metadata": {},
     "output_type": "execute_result"
    }
   ],
   "source": [
    "bins = [0, 9, 14, 19, 24, 29, 34, 39, 150]\n",
    "bin_labels = ['<10', '10-14', '15-19', '20-24', '25-29', '30-34', '35-39', '40+']\n",
    "\n",
    "users_df[\"Total Count\"] = pd.cut(users_df[\"Age\"], bins, labels=bin_labels)\n",
    "Age_count = users_df.groupby(\"Total Count\")[\"SN\"].count()\n",
    "\n",
    "Age_porcentage = Age_count/TotalUniquePlayers *100\n",
    "Age_porcentage\n",
    "\n",
    "# create a summary data frame to hold the results\n",
    "\n",
    "pd.DataFrame({\"percentages by age\": Age_porcentage,\n",
    "             \"Total purchase\": Age_count,\n",
    "             })\n"
   ]
  },
  {
   "cell_type": "markdown",
   "metadata": {},
   "source": [
    "## Purchasing Analysis (Age)"
   ]
  },
  {
   "cell_type": "markdown",
   "metadata": {},
   "source": [
    "* Bin the purchase_data data frame by age\n",
    "\n",
    "\n",
    "* Run basic calculations to obtain purchase count, avg. purchase price, avg. purchase total per person etc. in the table below\n",
    "\n",
    "\n",
    "* Create a summary data frame to hold the results\n",
    "\n",
    "\n",
    "* Optional: give the displayed data cleaner formatting\n",
    "\n",
    "\n",
    "* Display the summary data frame"
   ]
  },
  {
   "cell_type": "code",
   "execution_count": 174,
   "metadata": {},
   "outputs": [
    {
     "data": {
      "text/html": [
       "<div>\n",
       "<style scoped>\n",
       "    .dataframe tbody tr th:only-of-type {\n",
       "        vertical-align: middle;\n",
       "    }\n",
       "\n",
       "    .dataframe tbody tr th {\n",
       "        vertical-align: top;\n",
       "    }\n",
       "\n",
       "    .dataframe thead th {\n",
       "        text-align: right;\n",
       "    }\n",
       "</style>\n",
       "<table border=\"1\" class=\"dataframe\">\n",
       "  <thead>\n",
       "    <tr style=\"text-align: right;\">\n",
       "      <th></th>\n",
       "      <th>Purchase count</th>\n",
       "      <th>Average Purchase price</th>\n",
       "      <th>Total purchase per person</th>\n",
       "      <th>Average per person</th>\n",
       "    </tr>\n",
       "    <tr>\n",
       "      <th>Total Count</th>\n",
       "      <th></th>\n",
       "      <th></th>\n",
       "      <th></th>\n",
       "      <th></th>\n",
       "    </tr>\n",
       "  </thead>\n",
       "  <tbody>\n",
       "    <tr>\n",
       "      <th>&lt;10</th>\n",
       "      <td>23</td>\n",
       "      <td>7.869565</td>\n",
       "      <td>181</td>\n",
       "      <td>0.314236</td>\n",
       "    </tr>\n",
       "    <tr>\n",
       "      <th>10-14</th>\n",
       "      <td>28</td>\n",
       "      <td>11.392857</td>\n",
       "      <td>319</td>\n",
       "      <td>0.553819</td>\n",
       "    </tr>\n",
       "    <tr>\n",
       "      <th>15-19</th>\n",
       "      <td>136</td>\n",
       "      <td>16.794118</td>\n",
       "      <td>2284</td>\n",
       "      <td>3.965278</td>\n",
       "    </tr>\n",
       "    <tr>\n",
       "      <th>20-24</th>\n",
       "      <td>365</td>\n",
       "      <td>21.838356</td>\n",
       "      <td>7971</td>\n",
       "      <td>13.838542</td>\n",
       "    </tr>\n",
       "    <tr>\n",
       "      <th>25-29</th>\n",
       "      <td>101</td>\n",
       "      <td>26.000000</td>\n",
       "      <td>2626</td>\n",
       "      <td>4.559028</td>\n",
       "    </tr>\n",
       "    <tr>\n",
       "      <th>30-34</th>\n",
       "      <td>73</td>\n",
       "      <td>31.383562</td>\n",
       "      <td>2291</td>\n",
       "      <td>3.977431</td>\n",
       "    </tr>\n",
       "    <tr>\n",
       "      <th>35-39</th>\n",
       "      <td>41</td>\n",
       "      <td>36.707317</td>\n",
       "      <td>1505</td>\n",
       "      <td>2.612847</td>\n",
       "    </tr>\n",
       "    <tr>\n",
       "      <th>40+</th>\n",
       "      <td>13</td>\n",
       "      <td>41.538462</td>\n",
       "      <td>540</td>\n",
       "      <td>0.937500</td>\n",
       "    </tr>\n",
       "  </tbody>\n",
       "</table>\n",
       "</div>"
      ],
      "text/plain": [
       "             Purchase count  Average Purchase price  \\\n",
       "Total Count                                           \n",
       "<10                      23                7.869565   \n",
       "10-14                    28               11.392857   \n",
       "15-19                   136               16.794118   \n",
       "20-24                   365               21.838356   \n",
       "25-29                   101               26.000000   \n",
       "30-34                    73               31.383562   \n",
       "35-39                    41               36.707317   \n",
       "40+                      13               41.538462   \n",
       "\n",
       "             Total purchase per person  Average per person  \n",
       "Total Count                                                 \n",
       "<10                                181            0.314236  \n",
       "10-14                              319            0.553819  \n",
       "15-19                             2284            3.965278  \n",
       "20-24                             7971           13.838542  \n",
       "25-29                             2626            4.559028  \n",
       "30-34                             2291            3.977431  \n",
       "35-39                             1505            2.612847  \n",
       "40+                                540            0.937500  "
      ]
     },
     "execution_count": 174,
     "metadata": {},
     "output_type": "execute_result"
    }
   ],
   "source": [
    "purchase_data[\"Total Count\"] = pd.cut(purchase_data[\"Age\"], bins, labels=bin_labels)\n",
    "Count = purchase_data.groupby(\"Total Count\")[\"SN\"].count()\n",
    "\n",
    "Age_average = purchase_data.groupby([\"Total Count\"])[\"Age\"].mean() #Obtain average price\n",
    "\n",
    "Age_total_purchase = purchase_data.groupby([\"Total Count\"])[\"Age\"].sum()\n",
    "\n",
    "Age_porcentage = Total_purchase/TotalUniquePlayers\n",
    "\n",
    "pd.DataFrame({\"Purchase count\":Count,\n",
    "             \"Average Purchase price\":Age_average,\n",
    "              \"Total purchase per person\":Age_total_purchase,\n",
    "              \"Average per person\":Age_porcentage,\n",
    "             })"
   ]
  },
  {
   "cell_type": "markdown",
   "metadata": {},
   "source": [
    "## Top Spenders"
   ]
  },
  {
   "cell_type": "code",
   "execution_count": 107,
   "metadata": {},
   "outputs": [
    {
     "data": {
      "text/html": [
       "<div>\n",
       "<style scoped>\n",
       "    .dataframe tbody tr th:only-of-type {\n",
       "        vertical-align: middle;\n",
       "    }\n",
       "\n",
       "    .dataframe tbody tr th {\n",
       "        vertical-align: top;\n",
       "    }\n",
       "\n",
       "    .dataframe thead th {\n",
       "        text-align: right;\n",
       "    }\n",
       "</style>\n",
       "<table border=\"1\" class=\"dataframe\">\n",
       "  <thead>\n",
       "    <tr style=\"text-align: right;\">\n",
       "      <th></th>\n",
       "      <th>Total Purchase Value</th>\n",
       "      <th>Average Purchase Price</th>\n",
       "      <th>Purchase Count</th>\n",
       "    </tr>\n",
       "    <tr>\n",
       "      <th>SN</th>\n",
       "      <th></th>\n",
       "      <th></th>\n",
       "      <th></th>\n",
       "    </tr>\n",
       "  </thead>\n",
       "  <tbody>\n",
       "    <tr>\n",
       "      <th>Lisosia93</th>\n",
       "      <td>18.96</td>\n",
       "      <td>3.79</td>\n",
       "      <td>5</td>\n",
       "    </tr>\n",
       "    <tr>\n",
       "      <th>Idastidru52</th>\n",
       "      <td>15.45</td>\n",
       "      <td>3.86</td>\n",
       "      <td>4</td>\n",
       "    </tr>\n",
       "    <tr>\n",
       "      <th>Chamjask73</th>\n",
       "      <td>13.83</td>\n",
       "      <td>4.61</td>\n",
       "      <td>3</td>\n",
       "    </tr>\n",
       "    <tr>\n",
       "      <th>Iral74</th>\n",
       "      <td>13.62</td>\n",
       "      <td>3.40</td>\n",
       "      <td>4</td>\n",
       "    </tr>\n",
       "    <tr>\n",
       "      <th>Iskadarya95</th>\n",
       "      <td>13.10</td>\n",
       "      <td>4.37</td>\n",
       "      <td>3</td>\n",
       "    </tr>\n",
       "  </tbody>\n",
       "</table>\n",
       "</div>"
      ],
      "text/plain": [
       "             Total Purchase Value  Average Purchase Price  Purchase Count\n",
       "SN                                                                       \n",
       "Lisosia93                   18.96                    3.79               5\n",
       "Idastidru52                 15.45                    3.86               4\n",
       "Chamjask73                  13.83                    4.61               3\n",
       "Iral74                      13.62                    3.40               4\n",
       "Iskadarya95                 13.10                    4.37               3"
      ]
     },
     "execution_count": 107,
     "metadata": {},
     "output_type": "execute_result"
    }
   ],
   "source": [
    "#Calculations\n",
    "\n",
    "user_total = purchase_data.groupby([\"SN\"]).sum()[\"Price\"].rename(\"Total Purchase Value\")\n",
    "user_average = purchase_data.groupby([\"SN\"]).mean()[\"Price\"].rename(\"Average Purchase Price\")\n",
    "user_count = purchase_data.groupby([\"SN\"]).count()[\"Price\"].rename(\"Purchase Count\")\n",
    "\n",
    "user_data = pd.DataFrame({\"Total Purchase Value\": user_total,\n",
    "                          \"Average Purchase Price\": user_average,\n",
    "                          \"Purchase Count\": user_count})\n",
    "\n",
    "# formatting\n",
    "\n",
    "user_data = user_data.round(2)\n",
    "\n",
    "\n",
    "# Put in a Data Frame\n",
    "user_data.sort_values(\"Total Purchase Value\", ascending=False).head(5)\n"
   ]
  },
  {
   "cell_type": "markdown",
   "metadata": {},
   "source": [
    "* Run basic calculations to obtain the results in the table below\n",
    "\n",
    "\n",
    "* Create a summary data frame to hold the results\n",
    "\n",
    "\n",
    "* Sort the total purchase value column in descending order\n",
    "\n",
    "\n",
    "* Optional: give the displayed data cleaner formatting\n",
    "\n",
    "\n",
    "* Display a preview of the summary data frame\n",
    "\n"
   ]
  },
  {
   "cell_type": "markdown",
   "metadata": {},
   "source": [
    "## Most Popular Items"
   ]
  },
  {
   "cell_type": "raw",
   "metadata": {},
   "source": [
    "* Retrieve the Item ID, Item Name, and Item Price columns\n",
    "\n",
    "\n",
    "* Group by Item ID and Item Name. Perform calculations to obtain purchase count, item price, and total purchase value\n",
    "\n",
    "\n",
    "* Create a summary data frame to hold the results\n",
    "\n",
    "\n",
    "* Sort the purchase count column in descending order\n",
    "\n",
    "\n",
    "* Optional: give the displayed data cleaner formatting\n",
    "\n",
    "\n",
    "* Display a preview of the summary data frame\n",
    "\n"
   ]
  },
  {
   "cell_type": "code",
   "execution_count": 195,
   "metadata": {},
   "outputs": [
    {
     "data": {
      "text/html": [
       "<style  type=\"text/css\" >\n",
       "</style><table id=\"T_5741c_\" ><thead>    <tr>        <th class=\"blank\" ></th>        <th class=\"blank level0\" ></th>        <th class=\"col_heading level0 col0\" >Total count</th>        <th class=\"col_heading level0 col1\" >Total purchase value</th>        <th class=\"col_heading level0 col2\" >item price</th>    </tr>    <tr>        <th class=\"index_name level0\" >Item ID</th>        <th class=\"index_name level1\" >Item Name</th>        <th class=\"blank\" ></th>        <th class=\"blank\" ></th>        <th class=\"blank\" ></th>    </tr></thead><tbody>\n",
       "                <tr>\n",
       "                        <th id=\"T_5741c_level0_row0\" class=\"row_heading level0 row0\" >92</th>\n",
       "                        <th id=\"T_5741c_level1_row0\" class=\"row_heading level1 row0\" >Final Critic</th>\n",
       "                        <td id=\"T_5741c_row0_col0\" class=\"data row0 col0\" >$13.00</td>\n",
       "                        <td id=\"T_5741c_row0_col1\" class=\"data row0 col1\" >59.990000</td>\n",
       "                        <td id=\"T_5741c_row0_col2\" class=\"data row0 col2\" >4.614615</td>\n",
       "            </tr>\n",
       "            <tr>\n",
       "                        <th id=\"T_5741c_level0_row1\" class=\"row_heading level0 row1\" >178</th>\n",
       "                        <th id=\"T_5741c_level1_row1\" class=\"row_heading level1 row1\" >Oathbreaker, Last Hope of the Breaking Storm</th>\n",
       "                        <td id=\"T_5741c_row1_col0\" class=\"data row1 col0\" >$12.00</td>\n",
       "                        <td id=\"T_5741c_row1_col1\" class=\"data row1 col1\" >50.760000</td>\n",
       "                        <td id=\"T_5741c_row1_col2\" class=\"data row1 col2\" >4.230000</td>\n",
       "            </tr>\n",
       "            <tr>\n",
       "                        <th id=\"T_5741c_level0_row2\" class=\"row_heading level0 row2\" >145</th>\n",
       "                        <th id=\"T_5741c_level1_row2\" class=\"row_heading level1 row2\" >Fiery Glass Crusader</th>\n",
       "                        <td id=\"T_5741c_row2_col0\" class=\"data row2 col0\" >$9.00</td>\n",
       "                        <td id=\"T_5741c_row2_col1\" class=\"data row2 col1\" >41.220000</td>\n",
       "                        <td id=\"T_5741c_row2_col2\" class=\"data row2 col2\" >4.580000</td>\n",
       "            </tr>\n",
       "            <tr>\n",
       "                        <th id=\"T_5741c_level0_row3\" class=\"row_heading level0 row3\" >132</th>\n",
       "                        <th id=\"T_5741c_level1_row3\" class=\"row_heading level1 row3\" >Persuasion</th>\n",
       "                        <td id=\"T_5741c_row3_col0\" class=\"data row3 col0\" >$9.00</td>\n",
       "                        <td id=\"T_5741c_row3_col1\" class=\"data row3 col1\" >28.990000</td>\n",
       "                        <td id=\"T_5741c_row3_col2\" class=\"data row3 col2\" >3.221111</td>\n",
       "            </tr>\n",
       "            <tr>\n",
       "                        <th id=\"T_5741c_level0_row4\" class=\"row_heading level0 row4\" >108</th>\n",
       "                        <th id=\"T_5741c_level1_row4\" class=\"row_heading level1 row4\" >Extraction, Quickblade Of Trembling Hands</th>\n",
       "                        <td id=\"T_5741c_row4_col0\" class=\"data row4 col0\" >$9.00</td>\n",
       "                        <td id=\"T_5741c_row4_col1\" class=\"data row4 col1\" >31.770000</td>\n",
       "                        <td id=\"T_5741c_row4_col2\" class=\"data row4 col2\" >3.530000</td>\n",
       "            </tr>\n",
       "    </tbody></table>"
      ],
      "text/plain": [
       "<pandas.io.formats.style.Styler at 0x2be6b9c5400>"
      ]
     },
     "execution_count": 195,
     "metadata": {},
     "output_type": "execute_result"
    }
   ],
   "source": [
    "Item_ID = purchase_data[[\"Item ID\",\"Item Name\",\"Price\"]].groupby([\"Item ID\",\"Item Name\"])\n",
    "Grouped_purchase_count = Item_ID[\"Price\"].count() # Count the number of item price per purchase\n",
    "\n",
    "Grouped_total_purchase = Item_ID[\"Price\"].sum() # Purchase value per item \n",
    "\n",
    "item_price = Grouped_total_purchase/Grouped_purchase_count\n",
    "item_price\n",
    "\n",
    "most_popular_items = pd.DataFrame({\"Total count\": Grouped_purchase_count,\n",
    "            \"Total purchase value\": Grouped_total_purchase,             \n",
    "            \"item price\": item_price,\n",
    "            })\n",
    "\n",
    "\n",
    "\n",
    "\n"
   ]
  },
  {
   "cell_type": "markdown",
   "metadata": {},
   "source": [
    "## Most Profitable Items"
   ]
  },
  {
   "cell_type": "markdown",
   "metadata": {},
   "source": [
    "* Sort the above table by total purchase value in descending order\n",
    "\n",
    "\n",
    "* Optional: give the displayed data cleaner formatting\n",
    "\n",
    "\n",
    "* Display a preview of the data frame\n",
    "\n"
   ]
  },
  {
   "cell_type": "code",
   "execution_count": 200,
   "metadata": {},
   "outputs": [
    {
     "data": {
      "text/html": [
       "<style  type=\"text/css\" >\n",
       "</style><table id=\"T_21c5c_\" ><thead>    <tr>        <th class=\"blank\" ></th>        <th class=\"blank level0\" ></th>        <th class=\"col_heading level0 col0\" >Total count</th>        <th class=\"col_heading level0 col1\" >Total purchase value</th>        <th class=\"col_heading level0 col2\" >item price</th>    </tr>    <tr>        <th class=\"index_name level0\" >Item ID</th>        <th class=\"index_name level1\" >Item Name</th>        <th class=\"blank\" ></th>        <th class=\"blank\" ></th>        <th class=\"blank\" ></th>    </tr></thead><tbody>\n",
       "                <tr>\n",
       "                        <th id=\"T_21c5c_level0_row0\" class=\"row_heading level0 row0\" >92</th>\n",
       "                        <th id=\"T_21c5c_level1_row0\" class=\"row_heading level1 row0\" >Final Critic</th>\n",
       "                        <td id=\"T_21c5c_row0_col0\" class=\"data row0 col0\" >$13.00</td>\n",
       "                        <td id=\"T_21c5c_row0_col1\" class=\"data row0 col1\" >59.990000</td>\n",
       "                        <td id=\"T_21c5c_row0_col2\" class=\"data row0 col2\" >4.614615</td>\n",
       "            </tr>\n",
       "            <tr>\n",
       "                        <th id=\"T_21c5c_level0_row1\" class=\"row_heading level0 row1\" >178</th>\n",
       "                        <th id=\"T_21c5c_level1_row1\" class=\"row_heading level1 row1\" >Oathbreaker, Last Hope of the Breaking Storm</th>\n",
       "                        <td id=\"T_21c5c_row1_col0\" class=\"data row1 col0\" >$12.00</td>\n",
       "                        <td id=\"T_21c5c_row1_col1\" class=\"data row1 col1\" >50.760000</td>\n",
       "                        <td id=\"T_21c5c_row1_col2\" class=\"data row1 col2\" >4.230000</td>\n",
       "            </tr>\n",
       "            <tr>\n",
       "                        <th id=\"T_21c5c_level0_row2\" class=\"row_heading level0 row2\" >145</th>\n",
       "                        <th id=\"T_21c5c_level1_row2\" class=\"row_heading level1 row2\" >Fiery Glass Crusader</th>\n",
       "                        <td id=\"T_21c5c_row2_col0\" class=\"data row2 col0\" >$9.00</td>\n",
       "                        <td id=\"T_21c5c_row2_col1\" class=\"data row2 col1\" >41.220000</td>\n",
       "                        <td id=\"T_21c5c_row2_col2\" class=\"data row2 col2\" >4.580000</td>\n",
       "            </tr>\n",
       "            <tr>\n",
       "                        <th id=\"T_21c5c_level0_row3\" class=\"row_heading level0 row3\" >132</th>\n",
       "                        <th id=\"T_21c5c_level1_row3\" class=\"row_heading level1 row3\" >Persuasion</th>\n",
       "                        <td id=\"T_21c5c_row3_col0\" class=\"data row3 col0\" >$9.00</td>\n",
       "                        <td id=\"T_21c5c_row3_col1\" class=\"data row3 col1\" >28.990000</td>\n",
       "                        <td id=\"T_21c5c_row3_col2\" class=\"data row3 col2\" >3.221111</td>\n",
       "            </tr>\n",
       "            <tr>\n",
       "                        <th id=\"T_21c5c_level0_row4\" class=\"row_heading level0 row4\" >108</th>\n",
       "                        <th id=\"T_21c5c_level1_row4\" class=\"row_heading level1 row4\" >Extraction, Quickblade Of Trembling Hands</th>\n",
       "                        <td id=\"T_21c5c_row4_col0\" class=\"data row4 col0\" >$9.00</td>\n",
       "                        <td id=\"T_21c5c_row4_col1\" class=\"data row4 col1\" >31.770000</td>\n",
       "                        <td id=\"T_21c5c_row4_col2\" class=\"data row4 col2\" >3.530000</td>\n",
       "            </tr>\n",
       "    </tbody></table>"
      ],
      "text/plain": [
       "<pandas.io.formats.style.Styler at 0x2be6b9ecd60>"
      ]
     },
     "execution_count": 200,
     "metadata": {},
     "output_type": "execute_result"
    }
   ],
   "source": [
    "popular_item = most_popular_items.sort_values([\"Total count\"], ascending=False).head()\n",
    "\n",
    "popular_item.style.format({\"Item Price\":\"${:,.2f}\",\"Total count\":\"${:,.2f}\"})"
   ]
  },
  {
   "cell_type": "code",
   "execution_count": null,
   "metadata": {
    "scrolled": true
   },
   "outputs": [],
   "source": []
  },
  {
   "cell_type": "code",
   "execution_count": null,
   "metadata": {},
   "outputs": [],
   "source": []
  },
  {
   "cell_type": "code",
   "execution_count": null,
   "metadata": {},
   "outputs": [],
   "source": []
  },
  {
   "cell_type": "code",
   "execution_count": null,
   "metadata": {},
   "outputs": [],
   "source": []
  }
 ],
 "metadata": {
  "anaconda-cloud": {},
  "kernel_info": {
   "name": "python3"
  },
  "kernelspec": {
   "display_name": "Python 3 (ipykernel)",
   "language": "python",
   "name": "python3"
  },
  "language_info": {
   "codemirror_mode": {
    "name": "ipython",
    "version": 3
   },
   "file_extension": ".py",
   "mimetype": "text/x-python",
   "name": "python",
   "nbconvert_exporter": "python",
   "pygments_lexer": "ipython3",
   "version": "3.7.11"
  },
  "latex_envs": {
   "LaTeX_envs_menu_present": true,
   "autoclose": false,
   "autocomplete": true,
   "bibliofile": "biblio.bib",
   "cite_by": "apalike",
   "current_citInitial": 1,
   "eqLabelWithNumbers": true,
   "eqNumInitial": 1,
   "hotkeys": {
    "equation": "Ctrl-E",
    "itemize": "Ctrl-I"
   },
   "labels_anchors": false,
   "latex_user_defs": false,
   "report_style_numbering": false,
   "user_envs_cfg": false
  },
  "nteract": {
   "version": "0.2.0"
  }
 },
 "nbformat": 4,
 "nbformat_minor": 2
}
